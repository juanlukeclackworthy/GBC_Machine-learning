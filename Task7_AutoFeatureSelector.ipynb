{
 "cells": [
  {
   "cell_type": "markdown",
   "metadata": {},
   "source": [
    "# Task 7: AutoFeatureSelector Tool\n",
    "## This task is to test your understanding of various Feature Selection methods outlined in the lecture and the ability to apply this knowledge in a real-world dataset to select best features and also to build an automated feature selection tool as your toolkit\n",
    "\n",
    "### Use your knowledge of different feature selector methods to build an Automatic Feature Selection tool\n",
    "- Pearson Correlation\n",
    "- Chi-Square\n",
    "- RFE\n",
    "- Embedded\n",
    "- Tree (Random Forest)\n",
    "- Tree (Light GBM)"
   ]
  },
  {
   "cell_type": "markdown",
   "metadata": {},
   "source": [
    "### Dataset: FIFA 19 Player Skills\n",
    "#### Attributes: FIFA 2019 players attributes like Age, Nationality, Overall, Potential, Club, Value, Wage, Preferred Foot, International Reputation, Weak Foot, Skill Moves, Work Rate, Position, Jersey Number, Joined, Loaned From, Contract Valid Until, Height, Weight, LS, ST, RS, LW, LF, CF, RF, RW, LAM, CAM, RAM, LM, LCM, CM, RCM, RM, LWB, LDM, CDM, RDM, RWB, LB, LCB, CB, RCB, RB, Crossing, Finishing, Heading, Accuracy, ShortPassing, Volleys, Dribbling, Curve, FKAccuracy, LongPassing, BallControl, Acceleration, SprintSpeed, Agility, Reactions, Balance, ShotPower, Jumping, Stamina, Strength, LongShots, Aggression, Interceptions, Positioning, Vision, Penalties, Composure, Marking, StandingTackle, SlidingTackle, GKDiving, GKHandling, GKKicking, GKPositioning, GKReflexes, and Release Clause."
   ]
  },
  {
   "cell_type": "code",
   "execution_count": 2,
   "metadata": {},
   "outputs": [],
   "source": [
    "%matplotlib inline\n",
    "import numpy as np\n",
    "import pandas as pd \n",
    "import seaborn as sns\n",
    "import matplotlib.pyplot as plt\n",
    "import scipy.stats as ss\n",
    "from collections import Counter\n",
    "import math\n",
    "from scipy import stats"
   ]
  },
  {
   "cell_type": "code",
   "execution_count": 3,
   "metadata": {},
   "outputs": [],
   "source": [
    "player_df = pd.read_csv(\"fifa19.csv\")"
   ]
  },
  {
   "cell_type": "code",
   "execution_count": 4,
   "metadata": {},
   "outputs": [],
   "source": [
    "numcols = ['Overall', 'Crossing','Finishing',  'ShortPassing',  'Dribbling','LongPassing', 'BallControl', 'Acceleration','SprintSpeed', 'Agility',  'Stamina','Volleys','FKAccuracy','Reactions','Balance','ShotPower','Strength','LongShots','Aggression','Interceptions']\n",
    "catcols = ['Preferred Foot','Position','Body Type','Nationality','Weak Foot']"
   ]
  },
  {
   "cell_type": "code",
   "execution_count": 5,
   "metadata": {},
   "outputs": [
    {
     "name": "stdout",
     "output_type": "stream",
     "text": [
      "       Overall  Crossing  Finishing  ShortPassing  Dribbling  LongPassing  \\\n",
      "0           94      84.0       95.0          90.0       97.0         87.0   \n",
      "1           94      84.0       94.0          81.0       88.0         77.0   \n",
      "2           92      79.0       87.0          84.0       96.0         78.0   \n",
      "3           91      17.0       13.0          50.0       18.0         51.0   \n",
      "4           91      93.0       82.0          92.0       86.0         91.0   \n",
      "...        ...       ...        ...           ...        ...          ...   \n",
      "18202       47      34.0       38.0          49.0       42.0         45.0   \n",
      "18203       47      23.0       52.0          43.0       39.0         25.0   \n",
      "18204       47      25.0       40.0          38.0       45.0         28.0   \n",
      "18205       47      44.0       50.0          42.0       51.0         32.0   \n",
      "18206       46      41.0       34.0          48.0       43.0         44.0   \n",
      "\n",
      "       BallControl  Acceleration  SprintSpeed  Agility  ...  ShotPower  \\\n",
      "0             96.0          91.0         86.0     91.0  ...       85.0   \n",
      "1             94.0          89.0         91.0     87.0  ...       95.0   \n",
      "2             95.0          94.0         90.0     96.0  ...       80.0   \n",
      "3             42.0          57.0         58.0     60.0  ...       31.0   \n",
      "4             91.0          78.0         76.0     79.0  ...       91.0   \n",
      "...            ...           ...          ...      ...  ...        ...   \n",
      "18202         43.0          54.0         57.0     60.0  ...       43.0   \n",
      "18203         40.0          41.0         39.0     38.0  ...       41.0   \n",
      "18204         44.0          70.0         69.0     50.0  ...       45.0   \n",
      "18205         52.0          61.0         60.0     52.0  ...       64.0   \n",
      "18206         51.0          57.0         55.0     55.0  ...       43.0   \n",
      "\n",
      "       Strength  LongShots  Aggression  Interceptions  Preferred Foot  \\\n",
      "0          59.0       94.0        48.0           22.0            Left   \n",
      "1          79.0       93.0        63.0           29.0           Right   \n",
      "2          49.0       82.0        56.0           36.0           Right   \n",
      "3          64.0       12.0        38.0           30.0           Right   \n",
      "4          75.0       91.0        76.0           61.0           Right   \n",
      "...         ...        ...         ...            ...             ...   \n",
      "18202      47.0       38.0        46.0           46.0           Right   \n",
      "18203      67.0       42.0        47.0           16.0           Right   \n",
      "18204      32.0       45.0        32.0           15.0           Right   \n",
      "18205      48.0       34.0        33.0           22.0           Right   \n",
      "18206      60.0       32.0        56.0           42.0           Right   \n",
      "\n",
      "       Position   Body Type  Nationality  Weak Foot  \n",
      "0            RF       Messi    Argentina        4.0  \n",
      "1            ST  C. Ronaldo     Portugal        4.0  \n",
      "2            LW      Neymar       Brazil        5.0  \n",
      "3            GK        Lean        Spain        3.0  \n",
      "4           RCM      Normal      Belgium        5.0  \n",
      "...         ...         ...          ...        ...  \n",
      "18202        CM        Lean      England        2.0  \n",
      "18203        ST      Normal       Sweden        2.0  \n",
      "18204        ST      Normal      England        3.0  \n",
      "18205        RW        Lean      England        3.0  \n",
      "18206        CM        Lean      England        3.0  \n",
      "\n",
      "[18207 rows x 25 columns]\n"
     ]
    }
   ],
   "source": [
    "player_df = player_df[numcols+catcols]\n",
    "print(player_df)"
   ]
  },
  {
   "cell_type": "code",
   "execution_count": 6,
   "metadata": {},
   "outputs": [],
   "source": [
    "traindf = pd.concat([player_df[numcols], pd.get_dummies(player_df[catcols])],axis=1)\n",
    "features = traindf.columns\n",
    "\n",
    "traindf = traindf.dropna()"
   ]
  },
  {
   "cell_type": "code",
   "execution_count": 7,
   "metadata": {},
   "outputs": [
    {
     "name": "stdout",
     "output_type": "stream",
     "text": [
      "       Overall  Crossing  Finishing  ShortPassing  Dribbling  LongPassing  \\\n",
      "0           94      84.0       95.0          90.0       97.0         87.0   \n",
      "1           94      84.0       94.0          81.0       88.0         77.0   \n",
      "2           92      79.0       87.0          84.0       96.0         78.0   \n",
      "3           91      17.0       13.0          50.0       18.0         51.0   \n",
      "4           91      93.0       82.0          92.0       86.0         91.0   \n",
      "...        ...       ...        ...           ...        ...          ...   \n",
      "18202       47      34.0       38.0          49.0       42.0         45.0   \n",
      "18203       47      23.0       52.0          43.0       39.0         25.0   \n",
      "18204       47      25.0       40.0          38.0       45.0         28.0   \n",
      "18205       47      44.0       50.0          42.0       51.0         32.0   \n",
      "18206       46      41.0       34.0          48.0       43.0         44.0   \n",
      "\n",
      "       BallControl  Acceleration  SprintSpeed  Agility  ...  \\\n",
      "0             96.0          91.0         86.0     91.0  ...   \n",
      "1             94.0          89.0         91.0     87.0  ...   \n",
      "2             95.0          94.0         90.0     96.0  ...   \n",
      "3             42.0          57.0         58.0     60.0  ...   \n",
      "4             91.0          78.0         76.0     79.0  ...   \n",
      "...            ...           ...          ...      ...  ...   \n",
      "18202         43.0          54.0         57.0     60.0  ...   \n",
      "18203         40.0          41.0         39.0     38.0  ...   \n",
      "18204         44.0          70.0         69.0     50.0  ...   \n",
      "18205         52.0          61.0         60.0     52.0  ...   \n",
      "18206         51.0          57.0         55.0     55.0  ...   \n",
      "\n",
      "       Nationality_Uganda  Nationality_Ukraine  \\\n",
      "0                       0                    0   \n",
      "1                       0                    0   \n",
      "2                       0                    0   \n",
      "3                       0                    0   \n",
      "4                       0                    0   \n",
      "...                   ...                  ...   \n",
      "18202                   0                    0   \n",
      "18203                   0                    0   \n",
      "18204                   0                    0   \n",
      "18205                   0                    0   \n",
      "18206                   0                    0   \n",
      "\n",
      "       Nationality_United Arab Emirates  Nationality_United States  \\\n",
      "0                                     0                          0   \n",
      "1                                     0                          0   \n",
      "2                                     0                          0   \n",
      "3                                     0                          0   \n",
      "4                                     0                          0   \n",
      "...                                 ...                        ...   \n",
      "18202                                 0                          0   \n",
      "18203                                 0                          0   \n",
      "18204                                 0                          0   \n",
      "18205                                 0                          0   \n",
      "18206                                 0                          0   \n",
      "\n",
      "       Nationality_Uruguay  Nationality_Uzbekistan  Nationality_Venezuela  \\\n",
      "0                        0                       0                      0   \n",
      "1                        0                       0                      0   \n",
      "2                        0                       0                      0   \n",
      "3                        0                       0                      0   \n",
      "4                        0                       0                      0   \n",
      "...                    ...                     ...                    ...   \n",
      "18202                    0                       0                      0   \n",
      "18203                    0                       0                      0   \n",
      "18204                    0                       0                      0   \n",
      "18205                    0                       0                      0   \n",
      "18206                    0                       0                      0   \n",
      "\n",
      "       Nationality_Wales  Nationality_Zambia  Nationality_Zimbabwe  \n",
      "0                      0                   0                     0  \n",
      "1                      0                   0                     0  \n",
      "2                      0                   0                     0  \n",
      "3                      0                   0                     0  \n",
      "4                      0                   0                     0  \n",
      "...                  ...                 ...                   ...  \n",
      "18202                  0                   0                     0  \n",
      "18203                  0                   0                     0  \n",
      "18204                  0                   0                     0  \n",
      "18205                  0                   0                     0  \n",
      "18206                  0                   0                     0  \n",
      "\n",
      "[18159 rows x 224 columns]\n"
     ]
    }
   ],
   "source": [
    "traindf = pd.DataFrame(traindf,columns=features)\n",
    "print(traindf)"
   ]
  },
  {
   "cell_type": "code",
   "execution_count": 8,
   "metadata": {},
   "outputs": [],
   "source": [
    "y = traindf['Overall']>=87\n",
    "X = traindf.copy()\n",
    "del X['Overall']"
   ]
  },
  {
   "cell_type": "code",
   "execution_count": 9,
   "metadata": {},
   "outputs": [
    {
     "name": "stdout",
     "output_type": "stream",
     "text": [
      "   Crossing  Finishing  ShortPassing  Dribbling  LongPassing  BallControl  \\\n",
      "0      84.0       95.0          90.0       97.0         87.0         96.0   \n",
      "1      84.0       94.0          81.0       88.0         77.0         94.0   \n",
      "2      79.0       87.0          84.0       96.0         78.0         95.0   \n",
      "3      17.0       13.0          50.0       18.0         51.0         42.0   \n",
      "4      93.0       82.0          92.0       86.0         91.0         91.0   \n",
      "\n",
      "   Acceleration  SprintSpeed  Agility  Stamina  ...  Nationality_Uganda  \\\n",
      "0          91.0         86.0     91.0     72.0  ...                   0   \n",
      "1          89.0         91.0     87.0     88.0  ...                   0   \n",
      "2          94.0         90.0     96.0     81.0  ...                   0   \n",
      "3          57.0         58.0     60.0     43.0  ...                   0   \n",
      "4          78.0         76.0     79.0     90.0  ...                   0   \n",
      "\n",
      "   Nationality_Ukraine  Nationality_United Arab Emirates  \\\n",
      "0                    0                                 0   \n",
      "1                    0                                 0   \n",
      "2                    0                                 0   \n",
      "3                    0                                 0   \n",
      "4                    0                                 0   \n",
      "\n",
      "   Nationality_United States  Nationality_Uruguay  Nationality_Uzbekistan  \\\n",
      "0                          0                    0                       0   \n",
      "1                          0                    0                       0   \n",
      "2                          0                    0                       0   \n",
      "3                          0                    0                       0   \n",
      "4                          0                    0                       0   \n",
      "\n",
      "   Nationality_Venezuela  Nationality_Wales  Nationality_Zambia  \\\n",
      "0                      0                  0                   0   \n",
      "1                      0                  0                   0   \n",
      "2                      0                  0                   0   \n",
      "3                      0                  0                   0   \n",
      "4                      0                  0                   0   \n",
      "\n",
      "   Nationality_Zimbabwe  \n",
      "0                     0  \n",
      "1                     0  \n",
      "2                     0  \n",
      "3                     0  \n",
      "4                     0  \n",
      "\n",
      "[5 rows x 223 columns]\n"
     ]
    }
   ],
   "source": [
    "print(X.head())"
   ]
  },
  {
   "cell_type": "code",
   "execution_count": 10,
   "metadata": {},
   "outputs": [
    {
     "name": "stdout",
     "output_type": "stream",
     "text": [
      "223\n"
     ]
    }
   ],
   "source": [
    "print(len(X.columns))"
   ]
  },
  {
   "cell_type": "markdown",
   "metadata": {},
   "source": [
    "### Set some fixed set of features"
   ]
  },
  {
   "cell_type": "code",
   "execution_count": 13,
   "metadata": {},
   "outputs": [],
   "source": [
    "feature_names = list(X.columns)\n",
    "# no of maximum features we need to select\n",
    "num_feats=30"
   ]
  },
  {
   "cell_type": "markdown",
   "metadata": {},
   "source": [
    "## Filter Feature Selection - Pearson Correlation"
   ]
  },
  {
   "cell_type": "markdown",
   "metadata": {},
   "source": [
    "### Pearson Correlation function"
   ]
  },
  {
   "cell_type": "code",
   "execution_count": 14,
   "metadata": {},
   "outputs": [],
   "source": [
    "def cor_selector(X, y,num_feats):\n",
    "    # Your code goes here (Multiple lines)\n",
    "    #list your coefficients\n",
    "    cor_list = []\n",
    "    for i in feature_names:\n",
    "        cor = np.corrcoef(X[i], y)[0,1]\n",
    "        cor_list.append(cor)\n",
    "    #Imputation\n",
    "    cor_list = [0 if np.isnan(i) else i for i in cor_list]\n",
    "    #features from best feature\n",
    "    cor_feature = X.iloc[:,np.argsort(np.abs(cor_list))[-num_feats:]].columns.tolist()\n",
    "    #get bool values( Match True and Flase values)\n",
    "    cor_support = [True if i in cor_feature else False for i in feature_names]\n",
    "    \n",
    "    # Your code ends here\n",
    "    return cor_support, cor_feature"
   ]
  },
  {
   "cell_type": "code",
   "execution_count": 15,
   "metadata": {},
   "outputs": [
    {
     "name": "stdout",
     "output_type": "stream",
     "text": [
      "30 selected features\n"
     ]
    }
   ],
   "source": [
    "cor_support, cor_feature = cor_selector(X, y,num_feats)\n",
    "print(str(len(cor_feature)), 'selected features')"
   ]
  },
  {
   "cell_type": "markdown",
   "metadata": {},
   "source": [
    "### List the selected features from Pearson Correlation"
   ]
  },
  {
   "cell_type": "code",
   "execution_count": 16,
   "metadata": {},
   "outputs": [
    {
     "name": "stdout",
     "output_type": "stream",
     "text": [
      "['Nationality_Costa Rica', 'Position_LAM', 'Nationality_Uruguay', 'Acceleration', 'SprintSpeed', 'Strength', 'Nationality_Gabon', 'Nationality_Slovenia', 'Stamina', 'Weak Foot', 'Agility', 'Crossing', 'Nationality_Belgium', 'Dribbling', 'ShotPower', 'LongShots', 'Finishing', 'BallControl', 'FKAccuracy', 'LongPassing', 'Volleys', 'ShortPassing', 'Position_RF', 'Position_LF', 'Body Type_PLAYER_BODY_TYPE_25', 'Body Type_Courtois', 'Body Type_Neymar', 'Body Type_Messi', 'Body Type_C. Ronaldo', 'Reactions']\n"
     ]
    }
   ],
   "source": [
    "print(cor_feature)"
   ]
  },
  {
   "cell_type": "markdown",
   "metadata": {},
   "source": [
    "## Filter Feature Selection - Chi-Sqaure"
   ]
  },
  {
   "cell_type": "code",
   "execution_count": 17,
   "metadata": {},
   "outputs": [],
   "source": [
    "from sklearn.feature_selection import SelectKBest\n",
    "from sklearn.feature_selection import chi2\n",
    "from sklearn.preprocessing import MinMaxScaler"
   ]
  },
  {
   "cell_type": "markdown",
   "metadata": {},
   "source": [
    "### Chi-Squared Selector function"
   ]
  },
  {
   "cell_type": "code",
   "execution_count": 18,
   "metadata": {},
   "outputs": [
    {
     "name": "stdout",
     "output_type": "stream",
     "text": [
      "[[0.89772727 1.         0.96511628 ... 0.         0.         0.        ]\n",
      " [0.89772727 0.98924731 0.86046512 ... 0.         0.         0.        ]\n",
      " [0.84090909 0.91397849 0.89534884 ... 0.         0.         0.        ]\n",
      " ...\n",
      " [0.22727273 0.40860215 0.36046512 ... 0.         0.         0.        ]\n",
      " [0.44318182 0.51612903 0.40697674 ... 0.         0.         0.        ]\n",
      " [0.40909091 0.34408602 0.47674419 ... 0.         0.         0.        ]]\n"
     ]
    }
   ],
   "source": [
    "min_max = MinMaxScaler().fit_transform(X)\n",
    "print(min_max)"
   ]
  },
  {
   "cell_type": "code",
   "execution_count": 19,
   "metadata": {},
   "outputs": [],
   "source": [
    "def chi_squared_selector(X, y, num_feats):\n",
    "    # Your code goes here (Multiple lines)\n",
    "    #Standardize the fifa data with min max scale\n",
    "    chi = SelectKBest(score_func=chi2, k=num_feats).fit(min_max,y)\n",
    "    #get Bool values\n",
    "    chi_support = chi.get_support()\n",
    "    # get columns\n",
    "    chi_feature = X.iloc[:,chi_support].columns.tolist()\n",
    "    # Your code ends here\n",
    "    return chi_support, chi_feature"
   ]
  },
  {
   "cell_type": "code",
   "execution_count": 20,
   "metadata": {
    "scrolled": true
   },
   "outputs": [
    {
     "name": "stdout",
     "output_type": "stream",
     "text": [
      "30 selected features\n"
     ]
    }
   ],
   "source": [
    "chi_support, chi_feature = chi_squared_selector(X, y,num_feats)\n",
    "print(str(len(chi_feature)), 'selected features')"
   ]
  },
  {
   "cell_type": "markdown",
   "metadata": {},
   "source": [
    "### List the selected features from Chi-Square "
   ]
  },
  {
   "cell_type": "code",
   "execution_count": 21,
   "metadata": {},
   "outputs": [
    {
     "name": "stdout",
     "output_type": "stream",
     "text": [
      "['Finishing', 'ShortPassing', 'LongPassing', 'BallControl', 'Volleys', 'FKAccuracy', 'Reactions', 'LongShots', 'Position_CM', 'Position_LAM', 'Position_LF', 'Position_LW', 'Position_RB', 'Position_RF', 'Body Type_C. Ronaldo', 'Body Type_Courtois', 'Body Type_Messi', 'Body Type_Neymar', 'Body Type_PLAYER_BODY_TYPE_25', 'Nationality_Belgium', 'Nationality_Costa Rica', 'Nationality_Croatia', 'Nationality_Egypt', 'Nationality_England', 'Nationality_France', 'Nationality_Gabon', 'Nationality_Slovakia', 'Nationality_Slovenia', 'Nationality_Spain', 'Nationality_Uruguay']\n"
     ]
    }
   ],
   "source": [
    "print(chi_feature)"
   ]
  },
  {
   "cell_type": "markdown",
   "metadata": {},
   "source": [
    "## Wrapper Feature Selection - Recursive Feature Elimination"
   ]
  },
  {
   "cell_type": "code",
   "execution_count": 22,
   "metadata": {},
   "outputs": [],
   "source": [
    "from sklearn.feature_selection import RFE\n",
    "from sklearn.linear_model import LogisticRegression\n",
    "from sklearn.preprocessing import MinMaxScaler"
   ]
  },
  {
   "cell_type": "markdown",
   "metadata": {},
   "source": [
    "### RFE Selector function"
   ]
  },
  {
   "cell_type": "code",
   "execution_count": 23,
   "metadata": {},
   "outputs": [],
   "source": [
    "def rfe_selector(X, y, num_feats):\n",
    "    # Your code goes here (Multiple lines)\n",
    "    #NB use step of 10 \n",
    "    rfe = RFE(estimator=LogisticRegression(), n_features_to_select=num_feats, step=10, verbose=1).fit(min_max,y)\n",
    "    rfe_support = rfe.get_support()\n",
    "    rfe_feature = X.iloc[:,rfe_support].columns.tolist()\n",
    "    # Your code ends here\n",
    "    return rfe_support, rfe_feature"
   ]
  },
  {
   "cell_type": "code",
   "execution_count": 24,
   "metadata": {},
   "outputs": [
    {
     "name": "stdout",
     "output_type": "stream",
     "text": [
      "Fitting estimator with 223 features.\n",
      "Fitting estimator with 213 features.\n",
      "Fitting estimator with 203 features.\n",
      "Fitting estimator with 193 features.\n",
      "Fitting estimator with 183 features.\n",
      "Fitting estimator with 173 features.\n",
      "Fitting estimator with 163 features.\n",
      "Fitting estimator with 153 features.\n",
      "Fitting estimator with 143 features.\n",
      "Fitting estimator with 133 features.\n",
      "Fitting estimator with 123 features.\n",
      "Fitting estimator with 113 features.\n",
      "Fitting estimator with 103 features.\n",
      "Fitting estimator with 93 features.\n",
      "Fitting estimator with 83 features.\n",
      "Fitting estimator with 73 features.\n",
      "Fitting estimator with 63 features.\n",
      "Fitting estimator with 53 features.\n",
      "Fitting estimator with 43 features.\n",
      "Fitting estimator with 33 features.\n",
      "30 selected features\n"
     ]
    }
   ],
   "source": [
    "rfe_support, rfe_feature = rfe_selector(X, y,num_feats)\n",
    "print(str(len(rfe_feature)), 'selected features')"
   ]
  },
  {
   "cell_type": "markdown",
   "metadata": {},
   "source": [
    "### List the selected features from RFE"
   ]
  },
  {
   "cell_type": "code",
   "execution_count": 25,
   "metadata": {},
   "outputs": [
    {
     "name": "stdout",
     "output_type": "stream",
     "text": [
      "['Finishing', 'ShortPassing', 'LongPassing', 'BallControl', 'SprintSpeed', 'Agility', 'Volleys', 'FKAccuracy', 'Reactions', 'Strength', 'Weak Foot', 'Position_CAM', 'Position_CM', 'Position_GK', 'Position_LCB', 'Position_LM', 'Position_RB', 'Position_RCB', 'Position_RF', 'Position_RM', 'Position_RW', 'Body Type_Courtois', 'Body Type_PLAYER_BODY_TYPE_25', 'Nationality_Belgium', 'Nationality_Costa Rica', 'Nationality_Croatia', 'Nationality_Gabon', 'Nationality_Netherlands', 'Nationality_Slovenia', 'Nationality_Uruguay']\n"
     ]
    }
   ],
   "source": [
    "print(rfe_feature)"
   ]
  },
  {
   "cell_type": "markdown",
   "metadata": {},
   "source": [
    "## Embedded Selection - Lasso: SelectFromModel"
   ]
  },
  {
   "cell_type": "code",
   "execution_count": 26,
   "metadata": {},
   "outputs": [],
   "source": [
    "from sklearn.feature_selection import SelectFromModel\n",
    "from sklearn.linear_model import LogisticRegression\n",
    "from sklearn.preprocessing import MinMaxScaler"
   ]
  },
  {
   "cell_type": "code",
   "execution_count": 27,
   "metadata": {},
   "outputs": [],
   "source": [
    "def embedded_log_reg_selector(X, y, num_feats):\n",
    "    # Your code goes here (Multiple lines)\n",
    "    embedded = SelectFromModel(LogisticRegression(penalty='l2',solver='lbfgs'), max_features=num_feats).fit(min_max,y)\n",
    "    embedded_lr_support = embedded.get_support()\n",
    "    embedded_lr_feature = X.iloc[:,embedded_lr_support].columns.tolist()\n",
    "    # Your code ends here\n",
    "    return embedded_lr_support, embedded_lr_feature"
   ]
  },
  {
   "cell_type": "code",
   "execution_count": 28,
   "metadata": {},
   "outputs": [
    {
     "name": "stdout",
     "output_type": "stream",
     "text": [
      "30 selected features\n"
     ]
    }
   ],
   "source": [
    "embedded_lr_support, embedded_lr_feature = embedded_log_reg_selector(X, y, num_feats)\n",
    "print(str(len(embedded_lr_feature)), 'selected features')"
   ]
  },
  {
   "cell_type": "code",
   "execution_count": 29,
   "metadata": {},
   "outputs": [
    {
     "name": "stdout",
     "output_type": "stream",
     "text": [
      "['Finishing', 'ShortPassing', 'LongPassing', 'BallControl', 'SprintSpeed', 'Agility', 'Volleys', 'Reactions', 'Strength', 'Weak Foot', 'Position_CAM', 'Position_CM', 'Position_GK', 'Position_LCB', 'Position_LM', 'Position_RB', 'Position_RCB', 'Position_RM', 'Position_RW', 'Body Type_Courtois', 'Body Type_Lean', 'Body Type_Stocky', 'Nationality_Belgium', 'Nationality_Costa Rica', 'Nationality_Croatia', 'Nationality_France', 'Nationality_Gabon', 'Nationality_Netherlands', 'Nationality_Slovenia', 'Nationality_Uruguay']\n"
     ]
    }
   ],
   "source": [
    "print(embedded_lr_feature)"
   ]
  },
  {
   "cell_type": "markdown",
   "metadata": {},
   "source": [
    "## Tree based(Random Forest): SelectFromModel"
   ]
  },
  {
   "cell_type": "code",
   "execution_count": 30,
   "metadata": {},
   "outputs": [],
   "source": [
    "from sklearn.feature_selection import SelectFromModel\n",
    "from sklearn.ensemble import RandomForestClassifier"
   ]
  },
  {
   "cell_type": "code",
   "execution_count": 31,
   "metadata": {},
   "outputs": [],
   "source": [
    "def embedded_rf_selector(X, y, num_feats):\n",
    "    # Your code goes here (Multiple lines)\n",
    "    rf = SelectFromModel(RandomForestClassifier(n_estimators=100), max_features=num_feats).fit(min_max,y)\n",
    "    embedded_rf_support = rf.get_support()\n",
    "    embedded_rf_feature = X.iloc[:,embedded_rf_support].columns.tolist()\n",
    "    # Your code ends here\n",
    "    return embedded_rf_support, embedded_rf_feature"
   ]
  },
  {
   "cell_type": "code",
   "execution_count": 32,
   "metadata": {},
   "outputs": [
    {
     "name": "stdout",
     "output_type": "stream",
     "text": [
      "23 selected features\n"
     ]
    }
   ],
   "source": [
    "embedded_rf_support, embedded_rf_feature = embedded_rf_selector(X, y, num_feats)\n",
    "print(str(len(embedded_rf_feature)), 'selected features')"
   ]
  },
  {
   "cell_type": "code",
   "execution_count": 33,
   "metadata": {},
   "outputs": [
    {
     "name": "stdout",
     "output_type": "stream",
     "text": [
      "['Crossing', 'Finishing', 'ShortPassing', 'Dribbling', 'LongPassing', 'BallControl', 'Acceleration', 'SprintSpeed', 'Agility', 'Stamina', 'Volleys', 'FKAccuracy', 'Reactions', 'Balance', 'ShotPower', 'Strength', 'LongShots', 'Aggression', 'Interceptions', 'Weak Foot', 'Body Type_Courtois', 'Nationality_Belgium', 'Nationality_Slovenia']\n"
     ]
    }
   ],
   "source": [
    "print(embedded_rf_feature)"
   ]
  },
  {
   "cell_type": "markdown",
   "metadata": {},
   "source": [
    "## Tree based(Light GBM): SelectFromModel"
   ]
  },
  {
   "cell_type": "code",
   "execution_count": 34,
   "metadata": {},
   "outputs": [],
   "source": [
    "from sklearn.feature_selection import SelectFromModel\n",
    "from lightgbm import LGBMClassifier"
   ]
  },
  {
   "cell_type": "code",
   "execution_count": 35,
   "metadata": {},
   "outputs": [],
   "source": [
    "def embedded_lgbm_selector(X, y, num_feats):\n",
    "    # Your code goes here (Multiple lines)\n",
    "    lgbm = SelectFromModel(LGBMClassifier(n_estimators=500), max_features=num_feats).fit(min_max,y)\n",
    "    embedded_lgbm_support = lgbm.get_support()\n",
    "    embedded_lgbm_feature = X.iloc[:,embedded_lgbm_support].columns.tolist()\n",
    "    # Your code ends here\n",
    "    return embedded_lgbm_support, embedded_lgbm_feature"
   ]
  },
  {
   "cell_type": "code",
   "execution_count": 36,
   "metadata": {},
   "outputs": [
    {
     "name": "stdout",
     "output_type": "stream",
     "text": [
      "22 selected features\n"
     ]
    }
   ],
   "source": [
    "embedded_lgbm_support, embedded_lgbm_feature = embedded_lgbm_selector(X, y, num_feats)\n",
    "print(str(len(embedded_lgbm_feature)), 'selected features')"
   ]
  },
  {
   "cell_type": "code",
   "execution_count": 37,
   "metadata": {},
   "outputs": [
    {
     "name": "stdout",
     "output_type": "stream",
     "text": [
      "['Crossing', 'Finishing', 'ShortPassing', 'Dribbling', 'LongPassing', 'BallControl', 'Acceleration', 'SprintSpeed', 'Agility', 'Stamina', 'Volleys', 'FKAccuracy', 'Reactions', 'Balance', 'ShotPower', 'Strength', 'LongShots', 'Aggression', 'Interceptions', 'Position_LCB', 'Body Type_Lean', 'Nationality_Italy']\n"
     ]
    }
   ],
   "source": [
    "print(embedded_lgbm_feature)"
   ]
  },
  {
   "cell_type": "markdown",
   "metadata": {},
   "source": [
    "## Putting all of it together: AutoFeatureSelector Tool"
   ]
  },
  {
   "cell_type": "code",
   "execution_count": 39,
   "metadata": {},
   "outputs": [
    {
     "name": "stdout",
     "output_type": "stream",
     "text": [
      "                          Feature  Pearson  Chi-2    RFE  Logistics  \\\n",
      "1                         Volleys     True   True   True       True   \n",
      "2                    ShortPassing     True   True   True       True   \n",
      "3                       Reactions     True   True   True       True   \n",
      "4                     LongPassing     True   True   True       True   \n",
      "5                       Finishing     True   True   True       True   \n",
      "6                     BallControl     True   True   True       True   \n",
      "7                        Strength     True  False   True       True   \n",
      "8                     SprintSpeed     True  False   True       True   \n",
      "9            Nationality_Slovenia     True   True   True       True   \n",
      "10            Nationality_Belgium     True   True   True       True   \n",
      "11                     FKAccuracy     True   True   True      False   \n",
      "12             Body Type_Courtois     True   True   True       True   \n",
      "13                        Agility     True  False   True       True   \n",
      "14                      Weak Foot     True  False   True       True   \n",
      "15            Nationality_Uruguay     True   True   True       True   \n",
      "16              Nationality_Gabon     True   True   True       True   \n",
      "17         Nationality_Costa Rica     True   True   True       True   \n",
      "18                      LongShots     True   True  False      False   \n",
      "19                        Stamina     True  False  False      False   \n",
      "20                      ShotPower     True  False  False      False   \n",
      "21                    Position_RF     True   True   True      False   \n",
      "22                    Position_RB    False   True   True       True   \n",
      "23                   Position_LCB    False  False   True       True   \n",
      "24                    Position_CM    False   True   True       True   \n",
      "25            Nationality_Croatia    False   True   True       True   \n",
      "26                      Dribbling     True  False  False      False   \n",
      "27                       Crossing     True  False  False      False   \n",
      "28  Body Type_PLAYER_BODY_TYPE_25     True   True   True      False   \n",
      "29                   Acceleration     True  False  False      False   \n",
      "30                    Position_RW    False  False   True       True   \n",
      "\n",
      "    Random Forest  LightGBM  Total  \n",
      "1            True      True      6  \n",
      "2            True      True      6  \n",
      "3            True      True      6  \n",
      "4            True      True      6  \n",
      "5            True      True      6  \n",
      "6            True      True      6  \n",
      "7            True      True      5  \n",
      "8            True      True      5  \n",
      "9            True     False      5  \n",
      "10           True     False      5  \n",
      "11           True      True      5  \n",
      "12           True     False      5  \n",
      "13           True      True      5  \n",
      "14           True     False      4  \n",
      "15          False     False      4  \n",
      "16          False     False      4  \n",
      "17          False     False      4  \n",
      "18           True      True      4  \n",
      "19           True      True      3  \n",
      "20           True      True      3  \n",
      "21          False     False      3  \n",
      "22          False     False      3  \n",
      "23          False      True      3  \n",
      "24          False     False      3  \n",
      "25          False     False      3  \n",
      "26           True      True      3  \n",
      "27           True      True      3  \n",
      "28          False     False      3  \n",
      "29           True      True      3  \n",
      "30          False     False      2  \n"
     ]
    }
   ],
   "source": [
    "pd.set_option('display.max_rows', None)\n",
    "# put all selection together\n",
    "feature_selection_df = pd.DataFrame({'Feature':feature_names, 'Pearson':cor_support, 'Chi-2':chi_support, 'RFE':rfe_support, 'Logistics':embedded_lr_support,\n",
    "                                    'Random Forest':embedded_rf_support, 'LightGBM':embedded_lgbm_support})\n",
    "# count the selected times for each feature\n",
    "feature_selection_df['Total'] = np.sum(feature_selection_df, axis=1)\n",
    "# display the top 100\n",
    "feature_selection_df = feature_selection_df.sort_values(['Total','Feature'] , ascending=False)\n",
    "feature_selection_df.index = range(1, len(feature_selection_df)+1)\n",
    "print(feature_selection_df.head(num_feats))"
   ]
  },
  {
   "cell_type": "markdown",
   "metadata": {},
   "source": [
    "## Can you build a Python script that takes dataset and a list of different feature selection methods that you want to try and output the best (maximum votes) features from all methods?"
   ]
  },
  {
   "cell_type": "code",
   "execution_count": 40,
   "metadata": {},
   "outputs": [],
   "source": [
    "def preprocess_dataset(dataset_path):\n",
    "    # Your code starts here (Multiple lines)\n",
    "    player_df = pd.read_csv(\"fifa19.csv\")\n",
    "    numcols = ['Overall', 'Crossing','Finishing',  'ShortPassing',  'Dribbling','LongPassing', 'BallControl', 'Acceleration','SprintSpeed', 'Agility',  'Stamina','Volleys','FKAccuracy','Reactions','Balance','ShotPower','Strength','LongShots','Aggression','Interceptions']\n",
    "    catcols = ['Preferred Foot','Position','Body Type','Nationality','Weak Foot']\n",
    "    player_df = player_df[numcols+catcols]\n",
    "    traindf = pd.concat([player_df[numcols], pd.get_dummies(player_df[catcols])],axis=1)\n",
    "    features = traindf.columns\n",
    "    traindf = traindf.dropna()\n",
    "    traindf = pd.DataFrame(traindf,columns=features)\n",
    "    y = traindf['Overall']>=87\n",
    "    X = traindf.copy()\n",
    "    del X['Overall']\n",
    "    # Your code ends here\n",
    "    return X, y, num_feats"
   ]
  },
  {
   "cell_type": "code",
   "execution_count": 44,
   "metadata": {},
   "outputs": [],
   "source": [
    "def autoFeatureSelector(dataset_path, methods=[]):\n",
    "    # Parameters\n",
    "    # data - dataset to be analyzed (csv file)\n",
    "    # methods - various feature selection methods we outlined before, use them all here (list)\n",
    "    \n",
    "    # preprocessing\n",
    "    X, y, num_feats = preprocess_dataset(dataset_path)\n",
    "    \n",
    "    # Run every method we outlined above from the methods list and collect returned best features from every method\n",
    "    if 'pearson' in methods:\n",
    "        cor_support, cor_feature = cor_selector(X, y,num_feats)\n",
    "    if 'chi-square' in methods:\n",
    "        chi_support, chi_feature = chi_squared_selector(X, y,num_feats)\n",
    "    if 'rfe' in methods:\n",
    "        rfe_support, rfe_feature = rfe_selector(X, y,num_feats)\n",
    "    if 'log-reg' in methods:\n",
    "        embedded_lr_support, embedded_lr_feature = embedded_log_reg_selector(X, y, num_feats)\n",
    "    if 'rf' in methods:\n",
    "        embedded_rf_support, embedded_rf_feature = embedded_rf_selector(X, y, num_feats)\n",
    "    if 'lgbm' in methods:\n",
    "        embedded_lgbm_support, embedded_lgbm_feature = embedded_lgbm_selector(X, y, num_feats)\n",
    "    \n",
    "    \n",
    "# Combine all the above feature list and count the maximum set of features that got selected by all methods\n",
    "#### Your Code starts here (Multiple lines)\n",
    "    feature_selection_df = pd.DataFrame({'Feature':feature_names, 'Pearson':cor_support, 'Chi-2':chi_support, 'RFE':rfe_support, 'Logistics':embedded_lr_support,\n",
    "                                    'Random Forest':embedded_rf_support, 'LightGBM':embedded_lgbm_support})\n",
    "# count the selected times for each feature\n",
    "    feature_selection_df['Total'] = np.sum(feature_selection_df, axis=1)\n",
    "# display the top 100\n",
    "    feature_selection_df = feature_selection_df.sort_values(['Total','Feature'] , ascending=False)\n",
    "    feature_selection_df.index = range(1, len(feature_selection_df)+1)\n",
    "    bf = feature_selection_df.head(num_feats)\n",
    "    best_features = bf.iloc[:10,0]\n",
    "    \n",
    "    \n",
    "    #### Your Code ends here\n",
    "    return best_features"
   ]
  },
  {
   "cell_type": "code",
   "execution_count": 45,
   "metadata": {},
   "outputs": [
    {
     "name": "stdout",
     "output_type": "stream",
     "text": [
      "Fitting estimator with 223 features.\n",
      "Fitting estimator with 213 features.\n",
      "Fitting estimator with 203 features.\n",
      "Fitting estimator with 193 features.\n",
      "Fitting estimator with 183 features.\n",
      "Fitting estimator with 173 features.\n",
      "Fitting estimator with 163 features.\n",
      "Fitting estimator with 153 features.\n",
      "Fitting estimator with 143 features.\n",
      "Fitting estimator with 133 features.\n",
      "Fitting estimator with 123 features.\n",
      "Fitting estimator with 113 features.\n",
      "Fitting estimator with 103 features.\n",
      "Fitting estimator with 93 features.\n",
      "Fitting estimator with 83 features.\n",
      "Fitting estimator with 73 features.\n",
      "Fitting estimator with 63 features.\n",
      "Fitting estimator with 53 features.\n",
      "Fitting estimator with 43 features.\n",
      "Fitting estimator with 33 features.\n",
      "1                    Volleys\n",
      "2               ShortPassing\n",
      "3                  Reactions\n",
      "4                LongPassing\n",
      "5                  Finishing\n",
      "6                BallControl\n",
      "7                   Strength\n",
      "8                SprintSpeed\n",
      "9       Nationality_Slovenia\n",
      "10    Nationality_Costa Rica\n",
      "Name: Feature, dtype: object\n"
     ]
    }
   ],
   "source": [
    "best_features = autoFeatureSelector(dataset_path=\"fifa19.csv\", methods=['pearson', 'chi-square', 'rfe', 'log-reg', 'rf', 'lgbm'])\n",
    "print(best_features)"
   ]
  },
  {
   "cell_type": "markdown",
   "metadata": {},
   "source": [
    "### Last, Can you turn this notebook into a python script, run it and submit the python (.py) file that takes dataset and list of methods as inputs and outputs the best features"
   ]
  },
  {
   "cell_type": "code",
   "execution_count": null,
   "metadata": {},
   "outputs": [],
   "source": []
  }
 ],
 "metadata": {
  "kernelspec": {
   "display_name": "Python 3",
   "language": "python",
   "name": "python3"
  },
  "language_info": {
   "codemirror_mode": {
    "name": "ipython",
    "version": 3
   },
   "file_extension": ".py",
   "mimetype": "text/x-python",
   "name": "python",
   "nbconvert_exporter": "python",
   "pygments_lexer": "ipython3",
   "version": "3.8.8"
  }
 },
 "nbformat": 4,
 "nbformat_minor": 4
}
